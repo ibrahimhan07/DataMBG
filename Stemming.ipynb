{
  "nbformat": 4,
  "nbformat_minor": 0,
  "metadata": {
    "colab": {
      "provenance": [],
      "authorship_tag": "ABX9TyOAS+sQJsNV0TCqSErugGfs",
      "include_colab_link": true
    },
    "kernelspec": {
      "name": "python3",
      "display_name": "Python 3"
    },
    "language_info": {
      "name": "python"
    }
  },
  "cells": [
    {
      "cell_type": "markdown",
      "metadata": {
        "id": "view-in-github",
        "colab_type": "text"
      },
      "source": [
        "<a href=\"https://colab.research.google.com/github/ibrahimhan07/DataMBG/blob/Code/Stemming.ipynb\" target=\"_parent\"><img src=\"https://colab.research.google.com/assets/colab-badge.svg\" alt=\"Open In Colab\"/></a>"
      ]
    },
    {
      "cell_type": "code",
      "source": [
        "!pip install Sastrawi"
      ],
      "metadata": {
        "colab": {
          "base_uri": "https://localhost:8080/"
        },
        "id": "oaq7w2iqUirX",
        "outputId": "b8643381-1425-456a-9b97-12a8ca97e244"
      },
      "execution_count": null,
      "outputs": [
        {
          "output_type": "stream",
          "name": "stdout",
          "text": [
            "Collecting Sastrawi\n",
            "  Downloading Sastrawi-1.0.1-py2.py3-none-any.whl.metadata (909 bytes)\n",
            "Downloading Sastrawi-1.0.1-py2.py3-none-any.whl (209 kB)\n",
            "\u001b[2K   \u001b[90m━━━━━━━━━━━━━━━━━━━━━━━━━━━━━━━━━━━━━━━━\u001b[0m \u001b[32m209.7/209.7 kB\u001b[0m \u001b[31m1.1 MB/s\u001b[0m eta \u001b[36m0:00:00\u001b[0m\n",
            "\u001b[?25hInstalling collected packages: Sastrawi\n",
            "Successfully installed Sastrawi-1.0.1\n"
          ]
        }
      ]
    },
    {
      "cell_type": "code",
      "execution_count": null,
      "metadata": {
        "id": "t-Vef-BdKp_U",
        "colab": {
          "base_uri": "https://localhost:8080/"
        },
        "outputId": "da620ad9-bf54-4c24-f01a-a856fb85afff"
      },
      "outputs": [
        {
          "output_type": "stream",
          "name": "stdout",
          "text": [
            "Memulai inisialisasi Sastrawi Stemmer (Algoritma Nazief & Adriani)...\n",
            "Sastrawi Stemmer berhasil diinisialisasi.\n",
            "Mencoba membaca data dari file: MBGLabel.csv...\n",
            "Data berhasil dibaca. Jumlah baris: 10001.\n",
            "Daftar kolom yang ditemukan: ['Sentimen;Text']\n",
            "Memulai proses stemming pada kolom 'Sentimen;Text'...\n",
            "Proses stemming selesai.\n",
            "Kolom baru 'teks_stemmed' telah ditambahkan.\n",
            "Menyimpan hasil stemming ke file: data_stemmed.csv...\n",
            "Data yang sudah di-stem berhasil disimpan di 'data_stemmed.csv'.\n",
            "Anda sekarang dapat mengimpor file ini ke RapidMiner untuk langkah selanjutnya.\n"
          ]
        }
      ],
      "source": [
        "import pandas as pd\n",
        "from Sastrawi.Stemmer.StemmerFactory import StemmerFactory\n",
        "import os # Library untuk interaksi dengan sistem file, misal cek keberadaan file\n",
        "\n",
        "# --- Konfigurasi Awal (SILAKAN SESUAIKAN BAGIAN INI SESUAI FILE ANDA) ---\n",
        "# Nama file input CSV/Excel dari RapidMiner yang sudah di-cleansing.\n",
        "# Pastikan file ini ada di folder yang sama dengan skrip Python ini,\n",
        "# atau berikan path (alamat folder) lengkapnya.\n",
        "input_file_name = \"MBGLabel.csv\"\n",
        "\n",
        "# Nama file output CSV/Excel tempat hasil stemming akan disimpan.\n",
        "output_file_name = \"data_stemmed.csv\"\n",
        "\n",
        "# Nama kolom di file input Anda yang berisi teks yang sudah bersih\n",
        "# (misalnya, setelah menghilangkan URL, simbol, dsb.).\n",
        "# CONTOH: 'text_bersih', 'tweet_text_clean', 'teks_tweet'\n",
        "text_column_name = \"Sentimen;Text\" # <--- GANTI SESUAI NAMA KOLOM TEKS ANDA!\n",
        "\n",
        "# Nama kolom baru yang akan dibuat untuk menyimpan hasil stemming\n",
        "new_stemmed_column_name = \"teks_stemmed\"\n",
        "\n",
        "# --- Daftar Pengecualian (Exclusion List) ---\n",
        "# Kata-kata dalam daftar ini TIDAK akan di-stem.\n",
        "# Masukkan kata-kata kunci dari judul skripsi Anda yang tidak ingin berubah,\n",
        "# serta variasi penting lainnya yang ingin Anda pertahankan.\n",
        "# PASTIKAN SEMUA KATA DI SINI DALAM HURUF KECIL (lowercase).\n",
        "exclusion_list = [\n",
        "    \"makan\",\n",
        "    \"bergizi\",\n",
        "    \"gratis\",\n",
        "    \"program\",\n",
        "\n",
        "]\n",
        "\n",
        "# --- Inisialisasi Stemmer ---\n",
        "print(\"Memulai inisialisasi Sastrawi Stemmer (Algoritma Nazief & Adriani)...\")\n",
        "factory = StemmerFactory()\n",
        "stemmer = factory.create_stemmer()\n",
        "print(\"Sastrawi Stemmer berhasil diinisialisasi.\")\n",
        "\n",
        "# --- Membaca Data dari File Input ---\n",
        "print(f\"Mencoba membaca data dari file: {input_file_name}...\")\n",
        "try:\n",
        "    if not os.path.exists(input_file_name):\n",
        "        raise FileNotFoundError(f\"File '{input_file_name}' tidak ditemukan. Pastikan nama file dan path-nya benar.\")\n",
        "\n",
        "    # Otomatis deteksi format file (CSV atau Excel)\n",
        "    if input_file_name.lower().endswith('.csv'):\n",
        "        df = pd.read_csv(input_file_name)\n",
        "    elif input_file_name.lower().endswith(('.xlsx', '.xls')):\n",
        "        df = pd.read_excel(input_file_name)\n",
        "    else:\n",
        "        raise ValueError(\"Format file input tidak didukung. Harap gunakan .csv, .xlsx, atau .xls.\")\n",
        "\n",
        "    print(f\"Data berhasil dibaca. Jumlah baris: {len(df)}.\")\n",
        "    print(f\"Daftar kolom yang ditemukan: {df.columns.tolist()}\")\n",
        "\n",
        "    # Memastikan kolom teks yang dituju ada\n",
        "    if text_column_name not in df.columns:\n",
        "        raise KeyError(f\"Kolom '{text_column_name}' tidak ditemukan dalam file input. Harap periksa kembali nama kolomnya di file Anda.\")\n",
        "\n",
        "except FileNotFoundError as fnfe:\n",
        "    print(f\"ERROR: {fnfe}\")\n",
        "    print(\"Pastikan file input ada di folder yang sama atau berikan path lengkap.\")\n",
        "    exit() # Keluar dari skrip jika file tidak ditemukan\n",
        "except KeyError as ke:\n",
        "    print(f\"ERROR: {ke}\")\n",
        "    print(\"Pastikan 'text_column_name' sesuai dengan nama kolom di file Anda.\")\n",
        "    exit()\n",
        "except Exception as e:\n",
        "    print(f\"ERROR: Terjadi kesalahan saat membaca file: {e}\")\n",
        "    exit()\n",
        "\n",
        "# --- Fungsi untuk Menerapkan Stemming dengan Pengecualian ---\n",
        "def apply_sastrawi_stemming(text):\n",
        "    # Cek apakah nilai adalah string dan bukan NaN (Not a Number)\n",
        "    if pd.isna(text) or not isinstance(text, str):\n",
        "        return text # Kembalikan nilai asli jika kosong/bukan string\n",
        "\n",
        "    # Ubah teks ke huruf kecil untuk konsistensi pengecekan (penting!)\n",
        "    text_lower = text.lower()\n",
        "\n",
        "    # Tokenisasi sederhana (Anda bisa menggunakan NLTK/spaCy jika perlu tokenisasi yang lebih canggih)\n",
        "    words = text_lower.split() # Memisahkan kalimat menjadi kata-kata berdasarkan spasi\n",
        "\n",
        "    stemmed_words = []\n",
        "    for word in words:\n",
        "        # Jika kata (setelah di-lowercase) ada dalam daftar pengecualian, biarkan apa adanya\n",
        "        if word in exclusion_list:\n",
        "            stemmed_words.append(word)\n",
        "        else:\n",
        "            # Lakukan stemming untuk kata-kata lainnya\n",
        "            stemmed_words.append(stemmer.stem(word))\n",
        "\n",
        "    # Gabungkan kembali kata-kata yang sudah di-stem menjadi sebuah kalimat\n",
        "    return \" \".join(stemmed_words)\n",
        "\n",
        "# --- Melakukan Proses Stemming ---\n",
        "print(f\"Memulai proses stemming pada kolom '{text_column_name}'...\")\n",
        "# Membuat kolom baru untuk menyimpan hasil stemming\n",
        "df[new_stemmed_column_name] = df[text_column_name].apply(apply_sastrawi_stemming)\n",
        "print(\"Proses stemming selesai.\")\n",
        "print(f\"Kolom baru '{new_stemmed_column_name}' telah ditambahkan.\")\n",
        "\n",
        "# --- Menyimpan Hasil ke File Output ---\n",
        "print(f\"Menyimpan hasil stemming ke file: {output_file_name}...\")\n",
        "try:\n",
        "    if output_file_name.lower().endswith('.csv'):\n",
        "        df.to_csv(output_file_name, index=False) # index=False agar tidak menyimpan nomor indeks sebagai kolom baru\n",
        "    elif output_file_name.lower().endswith(('.xlsx', '.xls')):\n",
        "        df.to_excel(output_file_name, index=False)\n",
        "    else:\n",
        "        print(\"Peringatan: Format file output tidak dikenal, akan disimpan sebagai CSV.\")\n",
        "        df.to_csv(output_file_name + \".csv\", index=False)\n",
        "\n",
        "    print(f\"Data yang sudah di-stem berhasil disimpan di '{output_file_name}'.\")\n",
        "    print(\"Anda sekarang dapat mengimpor file ini ke RapidMiner untuk langkah selanjutnya.\")\n",
        "\n",
        "except Exception as e:\n",
        "    print(f\"ERROR: Terjadi kesalahan saat menyimpan file: {e}\")"
      ]
    }
  ]
}